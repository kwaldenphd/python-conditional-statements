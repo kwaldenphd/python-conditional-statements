{
  "nbformat": 4,
  "nbformat_minor": 0,
  "metadata": {
    "colab": {
      "provenance": [],
      "toc_visible": true,
      "authorship_tag": "ABX9TyMGVx7iXGDAUTiuVGGpQpso",
      "include_colab_link": true
    },
    "kernelspec": {
      "name": "python3",
      "display_name": "Python 3"
    },
    "language_info": {
      "name": "python"
    }
  },
  "cells": [
    {
      "cell_type": "markdown",
      "metadata": {
        "id": "view-in-github",
        "colab_type": "text"
      },
      "source": [
        "<a href=\"https://colab.research.google.com/github/kwaldenphd/python-conditional-statements/blob/main/python_conditional_statements_lab_procedure.ipynb\" target=\"_parent\"><img src=\"https://colab.research.google.com/assets/colab-badge.svg\" alt=\"Open In Colab\"/></a>"
      ]
    },
    {
      "cell_type": "markdown",
      "source": [
        "# Comparison Operators & Conditional Statements in Python\n",
        "\n",
        "<a href=\"http://creativecommons.org/licenses/by-nc/4.0/\" rel=\"license\"><img style=\"border-width: 0;\" src=\"https://i.creativecommons.org/l/by-nc/4.0/88x31.png\" alt=\"Creative Commons License\" /></a>This tutorial was written by Katherine Walden and is licensed under a <a href=\"http://creativecommons.org/licenses/by-nc/4.0/\" rel=\"license\">Creative Commons Attribution-NonCommercial 4.0 International License</a>.\n",
        "\n"
      ],
      "metadata": {
        "id": "0Wtd31XrcfQh"
      }
    },
    {
      "cell_type": "markdown",
      "source": [
        "## Lab Overview & Goals\n",
        "\n",
        "This lab provides an overview of foundational programming concepts in the areas of control structures and conditional execution, with a focus on Python syntax. Specific topics covered include: \n",
        "- Relational or comparison operators\n",
        "- Boolean logic and logical operators\n",
        "- `if-then-else` logic\n",
        "- `while` statements\n",
        "- Complex conditional statements"
      ],
      "metadata": {
        "id": "sBSXOHF1ngMa"
      }
    },
    {
      "cell_type": "markdown",
      "source": [
        "## Acknowledgements\n",
        "\n",
        "Elements of this lab procedure were adapted from materials developed by:\n",
        "- [Dr. Peter Bui](http://www3.nd.edu/~pbui/) for the [CSE 10101 \"Elements of Computing I\" course](https://www3.nd.edu/~pbui/teaching/cdt.30010.fa16/).\n",
        "  * [Conditional and Alternative Execution](http://nbviewer.jupyter.org/urls/gitlab.com/snippets/25773/raw)\n",
        "- [Dr. Janet Davis](https://cs.whitman.edu/~davisj/) for the the [CSC 105 \"The Digital Age\" course](https://www.cs.grinnell.edu/~davisjan/csc/105/2012S/). \n",
        "  * [Laboratory: Programming in Python (Decisions and Repetition)](http://www.cs.grinnell.edu/~davisjan/csc/105/labs/python3.html)\n",
        "- [Dr. Corey Pennycuff](https://www3.nd.edu/~cpennycu/) for the [CSE 10101 Elements of Computing (Fall 2019)](https://www3.nd.edu/~cpennycu/2019/fa-CSE10101-CDT30010.html).\n",
        "  * [Control flow structures](https://www3.nd.edu/~cpennycu/2019/assets/fall/EOC/19.09.03.ipynb)\n",
        "- [Lindsay K. Mattock](http://lindsaymattock.net/) for the the [SLIS 5020 Computing Foundations course](http://lindsaymattock.net/computingfoundations.html). "
      ],
      "metadata": {
        "id": "diYC5efbniJv"
      }
    },
    {
      "cell_type": "markdown",
      "source": [
        "## Key Concepts\n",
        "\n",
        "[Click here](https://github.com/kwaldenphd/python-conditional-statements/blob/main/key-concepts.md) for a full list of key concepts and definitions from this lab."
      ],
      "metadata": {
        "id": "b0kVfWXHnkH0"
      }
    },
    {
      "cell_type": "markdown",
      "source": [
        "## Lab Notebook Template\n",
        "\n",
        "[Jupyter Notebook, `.ipynb`](https://colab.research.google.com/drive/171iknHXXUMLEO-yyUCI1g-MbRAKFgAOv?usp=sharing) (Google Colab, ND users)"
      ],
      "metadata": {
        "id": "4f9GM8IXnmCT"
      }
    },
    {
      "cell_type": "markdown",
      "source": [
        "# Overview\n",
        "\n",
        "From Busbee and Braunschweig's \"[Structured Programming](https://press.rebus.community/programmingfundamentals/chapter/structured-programming/)\" from *Programming Fundamentals*\n",
        "    \n",
        "\"One of the most important concepts of programming is the ability to control a program so that different lines of code are executed or that some lines of code are executed many times. The mechanisms that allow us to control the flow of execution are called control structures. Flowcharting is a method of documenting (charting) the flow (or paths) that a program would execute. There are three main categories of control structures:\"\n",
        "  * Sequence [executes in given sequence]\n",
        "  * Selection [selects between two or more flows using condition or question]\n",
        "  * Iteration [repeats same piece of code multiple times]\n",
        "  \n",
        "We're going to spend multiple labs thinking through control structures and control flow, with a focus on how we use them in Python.\n",
        "    \n",
        "Examples of control structures in Python include:\n",
        "- `if-then-else` (syntax: `if`, `else`, `elif`)\n",
        "- `while` statements (syntax: `while`)\n",
        "\n",
        "Foundational to most control structures are something called conditional statements- code that tests whether a condition is `True` or `False`. "
      ],
      "metadata": {
        "id": "CxULlshunqUf"
      }
    },
    {
      "cell_type": "markdown",
      "source": [
        "# Comparison Operators\n",
        "\n",
        "\"The relational operators are often used to create a test expression that controls program flow. This type of expression is also known as a Boolean expression because they create a Boolean answer or value when evaluated. There are six common relational operators that give a Boolean value by comparing (showing the relationship) between two operands. If the operands are of different data types, implicit promotion occurs to convert the operands to the same data type\" (Busbee, \"[Relational Operators](https://press.rebus.community/programmingfundamentals/chapter/relational-operators/)\", in *Programming Fundamentals*)\n",
        "\n",
        "Relational operators, also called comparison operators, allow us to run `True/False` tests on specific conditions, focusing on the relationship(s) between two or more values.\n",
        "\n",
        "Relational operators or comparison operators in Python: \n",
        "\n",
        "<table><tr><th>Name</th><th>Syntax</th><th>Example</th><th>Description</th></tr>\n",
        "  <tr><td>Equal</td><td><code>==</code><td><code>x == y</code></td><td>Tests if values are equal</td></tr>\n",
        "  <tr><td>Not equal</td><td><code>!=</code><td><code>x != y</code></td><td>Tests if values are not equal</td></tr>\n",
        "  <tr><td>Greater than</td><td><code>></code><td><code>x > y</code></td><td>Tests is a value is greater than another</td></tr>\n",
        "  <tr><td>Less than</td><td><code><</code><td><code>x < y</code></td><td>Tests is a value is less than another</td></tr> \n",
        "  <tr><td>Greater than or equal to</td><td><code>>=</code><td><code>x >= y</code></td><td>Tests if a value is greater than or equal to another</td></tr>\n",
        "  <tr><td>Less than or equal to</td><td><code><=</code><td><code>x <= y</code></td><td>Tests if a value is less than or equal to another</td></tr>  \n",
        "  </table>\n",
        "    \n",
        "For more on comparison operators in Python: [W3Schools, Python Comparison Operators](https://www.w3schools.com/python/gloss_python_comparison_operators.asp)"
      ],
      "metadata": {
        "id": "RipQT_gHnsIT"
      }
    },
    {
      "cell_type": "markdown",
      "source": [
        "## Boolean Logic\n",
        "\n",
        "- \"In mathematics and mathematical logic, Boolean algebra is the branch of algebra in which the values of the variables are the truth values true and false, usually denoted 1 and 0\" ([Wikipedia](https://en.wikipedia.org/wiki/Boolean_algebra))\n",
        "\n",
        "We've talked previously about the Boolean data type. The underlying `True`/`False` logic lets us test for specific conditions and then specify how our code will execute based on the truth value for those conditional statements.\n",
        "\n",
        "- \"You can evaluate any expression in Python, and get one of two answers, `True` or `False`. When you compare two values, the expression is evaluated and Python returns the Boolean answer\" ([W3Schools, Python Booleans](https://www.w3schools.com/python/python_booleans.asp))"
      ],
      "metadata": {
        "id": "WKaYGqounuFu"
      }
    },
    {
      "cell_type": "markdown",
      "source": [
        "## Boolean Logic & Comparison Operators\n",
        "   \n",
        "We can use comparison operators with a `print()` statement to test whether a particular statement is `True` or `False`.\n",
        "   \n",
        "A couple Python examples:"
      ],
      "metadata": {
        "id": "MaT0FF3TnvJa"
      }
    },
    {
      "cell_type": "code",
      "source": [
        "print(4 == 5) # returns false\n",
        "print(6 < 10) # returns true"
      ],
      "metadata": {
        "id": "n7WtGNTYnwJn"
      },
      "execution_count": null,
      "outputs": []
    },
    {
      "cell_type": "code",
      "source": [
        "# comparison operator using variables\n",
        "x = 5\n",
        "y = 6\n",
        "\n",
        "print(x > y) # returns false"
      ],
      "metadata": {
        "id": "U8LuWXW-nxdY"
      },
      "execution_count": null,
      "outputs": []
    },
    {
      "cell_type": "markdown",
      "source": [
        "## Comparison Operators & String Objects\n",
        "\n",
        "We can probably make intuitive sense of how these comparison operators would work for numeric values. But what about text characters or string objects?\n",
        "   \n",
        "Most programming languages treat the 26 characters in the English-language alphabet (`a-z`) as sequential values, where `a` is less than `b`, which is less than `c`, etc.\n",
        "\n",
        "When working with string objects that represent words or characters, comparison operators indicate positionality in the English-language alphabet.\n",
        "\n",
        "A few examples in Python:"
      ],
      "metadata": {
        "id": "IPYCBfehny8Z"
      }
    },
    {
      "cell_type": "code",
      "source": [
        "print(\"apple\" > \"banana\") # returns true\n",
        "\n",
        "print(\"Ohio State\" > \"Notre Dame\") # returns false"
      ],
      "metadata": {
        "id": "Vdmace2Nnz_R"
      },
      "execution_count": null,
      "outputs": []
    },
    {
      "cell_type": "markdown",
      "source": [
        "## Comprehension Check\n",
        "\n",
        "<table>\n",
        " <tr><td>\n",
        "<img src=\"https://github.com/kwaldenphd/internet/blob/main/images/clipboard.png?raw=true\" alt=\"Clipboard icon\" width=\"50\"/></td>\n",
        "  <td><a href=\"https://docs.google.com/forms/d/e/1FAIpQLSd20NlXelKfF3hS5ftvjJAPG_Db7uMbnODfIT8dGZ39fP5EaA/viewform?usp=sf_link\">Comparison Operators Comprehension Check</a></td>\n",
        "  </tr>\n",
        "  </table>\n"
      ],
      "metadata": {
        "id": "84tiLMnRn1fV"
      }
    },
    {
      "cell_type": "markdown",
      "source": [
        "## Application\n",
        "\n",
        "Q1: Write a program that uses each of Python's comparison operators (`==, !=, >, <, >=, <=`) to compare two numeric values. Answer to this question includes program + comments that document process and explain your code.\n",
        "\n",
        "Outline for this program:\n",
        "\n",
        "Outline for this program:\n",
        "```\n",
        "# first numeric value\n",
        "\n",
        "# second numeric value\n",
        "\n",
        "# equal\n",
        "\n",
        "# not equal\n",
        "\n",
        "# greater than\n",
        "\n",
        "# less than\n",
        "\n",
        "# greater than or equal to\n",
        "\n",
        "# less than or equal to\n",
        "\n",
        "```\n",
        "\n",
        "Q2: Write a program that uses each of Python's comparison operators (`==, !=, >, <, >=, <=`) to compare two string objects. Answer to this question includes program + comments that document process and explain your code.\n",
        "\n",
        "Outline for this program:\n",
        "```\n",
        "# first string object\n",
        "\n",
        "# second string object\n",
        "\n",
        "# equal\n",
        "\n",
        "# not equal\n",
        "\n",
        "# greater than\n",
        "\n",
        "# less than\n",
        "\n",
        "# greater than or equal to\n",
        "\n",
        "# less than or equal to\n",
        "\n",
        "```\n",
        "\n",
        "Q3: Write a program that asks a user to enter their age and returns an output message comparing that value with your age. This program will use a combination of the `input()` function, comparison operators, and `if-then-else` logic. Answer to this question includes program + comments that document process and explain your code.\n",
        "\n",
        "Sample output for this program:\n",
        "```\n",
        "Your age: 10\n",
        "\n",
        "My age: 12\n",
        "\n",
        "I am older!\n",
        "```"
      ],
      "metadata": {
        "id": "lu46oNQwn3fv"
      }
    },
    {
      "cell_type": "markdown",
      "source": [
        "# `if-then-else` \n",
        "\n",
        "From Busbee and Braunschweig's \"[Selection Control Structures](https://press.rebus.community/programmingfundamentals/chapter/selection-control-structures/)\" from *Programming Fundamentals*:\n",
        "- \"The basic attribute of a selection control structure is to be able to select between two or more alternate paths. This is described as either two-way selection or multi-way selection. A question using Boolean concepts usually controls which path is selected. All of the paths from a selection control structure join back up at the end of the control structure, before moving on to the next lines of code in a program.\"\n",
        "- \"The if then else control structure is a two-way selection\"\n",
        "\n",
        "In Python, this logic is expressed using the `if`, `else`, and `elif` syntax. From W3Schols, \"[Python Conditions](https://www.w3schools.com/python/python_conditions.asp)\":\n",
        "- \"An 'if statement' is written by using the `if` keyword\"\n",
        "- \"The `elif` keyword is Python's way of saying 'if the previous conditions were not true, then try this condition'\"\n",
        "- \"The `else` keyword catches anything which isn't caught by the preceding conditions\"\n"
      ],
      "metadata": {
        "id": "7sCdQLaCn8nV"
      }
    },
    {
      "cell_type": "code",
      "source": [
        "# assign variables\n",
        "x = 5\n",
        "y = 7\n",
        "\n",
        "# if statement\n",
        "if x > y:\n",
        "    print(\"The value of x is greater than the value of y\")\n",
        "\n",
        "# else if statement\n",
        "elif x == y:\n",
        "    print(\"The value of x is equal to the value of y\")\n",
        "\n",
        "# else statement\n",
        "else:\n",
        "    print(\"The value of x is less than the value of y\")"
      ],
      "metadata": {
        "id": "Q18OoL3un-g5"
      },
      "execution_count": null,
      "outputs": []
    },
    {
      "cell_type": "markdown",
      "source": [
        "To frame this another way:\n",
        "- `if` introduces and evaluates an initial condition. The lines of code indented under `if` will only run when the `if` statement is `True`\n",
        "- `else-if` or `elif` introduces and evaluates another condition. The lines of code indented under `elif` will only run when the `elif` statement is `True`\n",
        "- `else` **does not** introduce a new condition. The lines of code indented under `else` will only run when the preceeding `if`/`elif` statements **are not** true \n",
        "\n",
        "For more on `if-then-else` logic in Python:\n",
        "- [W3Schools, Python If ... Else](https://www.w3schools.com/python/python_conditions.asp)\n",
        "\n",
        "## `while` statements\n",
        "\n",
        "Another way to express `if-then-else` logic in Python is using a `while` statement. \n",
        "\n",
        "A `while` statement tests for an initial condition, and the lines of code indented under `while` run only when the initial condition is `True`.\n",
        "\n",
        "An example of the prior `if-then-else` program, written using `while`."
      ],
      "metadata": {
        "id": "jqnCe2tnoAWf"
      }
    },
    {
      "cell_type": "code",
      "source": [
        "# while statement with initial condition\n",
        "while x != y:\n",
        "  # if statement\n",
        "  if x > y:\n",
        "      print(\"The value of x is greater than the value of y\")\n",
        "\n",
        "      # else if statement\n",
        "  elif x == y:\n",
        "      print(\"The value of x is equal to the value of y\")\n",
        "\n",
        "  # else statement\n",
        "  else:\n",
        "      print(\"The value of x is less than the value of y\")"
      ],
      "metadata": {
        "id": "Z9MSRuuXoBmO"
      },
      "execution_count": null,
      "outputs": []
    },
    {
      "cell_type": "markdown",
      "source": [
        "As we see in this example, we can nest multiple `if-then-else` logical statements in the same piece of code.\n",
        "\n",
        "## Indentation\n",
        "\n",
        "As we continue to introduce more programming concepts and further our work in Python, we're starting to see **code blocks** and **indentation** at work.\n",
        "\n",
        "From Busbee and Braunschweig's \"[Code Blocks](https://press.rebus.community/programmingfundamentals/chapter/code-blocks/)\" from *Programming Fundamentals*:\n",
        "- \"A code block, sometimes referred to as a compound statement, is a lexical structure of source code which is grouped together. Blocks consist of one or more declarations and statements. A programming language that permits the creation of blocks, including blocks nested within other blocks, is called a block-structured programming language. Blocks are fundamental to structured programming, where control structures are formed from blocks.\"\n",
        "   \n",
        "In Python syntax, code blocks are marked by indentation, or indented lines of code. \n",
        "\n",
        "\n",
        "```Python\n",
        "# an example of indentation in Python\n",
        "if expression:\n",
        "   statement\n",
        "   statement\n",
        "else:\n",
        "   statement\n",
        "   statement\n",
        "```\n"
      ],
      "metadata": {
        "id": "WGq8G4nXoEOL"
      }
    },
    {
      "cell_type": "markdown",
      "source": [
        "## Comprehension Check\n",
        "\n",
        "<table>\n",
        " <tr><td>\n",
        "<img src=\"https://github.com/kwaldenphd/internet/blob/main/images/clipboard.png?raw=true\" alt=\"Clipboard icon\" width=\"50\"/></td>\n",
        "  <td><a href=\"https://docs.google.com/forms/d/e/1FAIpQLSfP5zF_hGh2tEgr0pz3D56a6YiIkjJxcfRZq5YAHcjhZQ3wqw/viewform?usp=sf_link\"><code>if-then-else</code> Comprehension Check</a></td>\n",
        "  </tr>\n",
        "  </table>\n"
      ],
      "metadata": {
        "id": "pbYyVAE9oIYV"
      }
    },
    {
      "cell_type": "markdown",
      "source": [
        "## Application\n",
        "\n",
        "Q4: Write a program that asks a user to enter a color value and returns an output message comparing that value with your favorite color. This program will use a combination of the `input()` function, comparison operators, and `if-then-else` logic. Answer to this question includes program + comments that document process and explain your code.\n",
        "\n",
        "Sample output for this program:\n",
        "```\n",
        "Your favorite color: green\n",
        "\n",
        "My age: blue\n",
        "\n",
        "We don't have the same favorite color.\n",
        "```\n",
        "\n",
        "Q5: Modify your Q4 program to write a program that asks the user to enter a color value and returns an output message indicating whether the color is a primary, secondary, or tertiary color. This program will use a combination of the `input()` function, comparison operators, and `if-then-else` logic. Answer to this question includes program + comments that document process and explain your code.\n",
        "\n",
        "Primary colors:\n",
        "- Red\n",
        "- Yellow\n",
        "- Blue\n",
        "\n",
        "Secondary colors:\n",
        "- Green\n",
        "- Orange\n",
        "- Purple\n",
        "\n",
        "Tertiary colors:\n",
        "- Amber\n",
        "- Vermillion\n",
        "- Magenta\n",
        "- Violet\n",
        "- Teal\n",
        "- Chartreuse\n",
        "\n",
        "Q6: Write a program that lets the user play a guessing game.\n",
        "- First, your program should set a number as the \"correct answer\"\n",
        "- Then, your program will ask the user to guess a number\n",
        "- Your program should give a message indicating whether the user's guess is correct, too high, or too low\n",
        "\n",
        "This program will use a combination of the `input()` function, comparison operators, and `if-then-else` logic. Answer to this question includes program + comments that document process and explain your code.\n",
        "\n",
        "Sample output for this program (for a correct answer of 7:\n",
        "```\n",
        "You guessed 13.\n",
        "\n",
        "This guess is too high.\n",
        "\n",
        "Better luck next time!\n",
        "```\n",
        "\n",
        "Q7: Revise your Q6 program to use a `while` statement and continue accept new user inputs until until the user guesses the correct number.\n",
        "\n",
        "Remember the lines of code nested under a `while` statement will continue to run (or loop) as long as the initial condition is true. The program will stop running (or looping) this code block when the initial condition is no longer true.\n",
        "\n",
        "The general logic flow for this program:\n",
        "```\n",
        "1- Accept user input\n",
        "\n",
        "2- Evaluate initial condition\n",
        "\n",
        "3- Check if guess is too high\n",
        "\n",
        "4- If guess is too high, output message to user and accept another guess.\n",
        "\n",
        "5- Check if guess is too low\n",
        "\n",
        "6- If guess is too low, output message to user and accept another guess\n",
        "\n",
        "7- Output final message indicating user has guessed correctly\n",
        "```\n",
        "\n",
        "Note that steps 2-6 will need to continue running (or looping) until the user guesses correctly.\n",
        "\n",
        "Answer to this question includes program + comments that document process and explain your code."
      ],
      "metadata": {
        "id": "cGg6FuT9oPud"
      }
    },
    {
      "cell_type": "markdown",
      "source": [
        "# Putting It All Together\n",
        "   \n",
        "We can imagine programming scenarios in which we want to compare more than two values or evaluate multiple conditions as part of a conditional statement. We can do this using logical operators and complex conditional statements.\n",
        "\n",
        "For example, `5 < 6 > 7` evaluates whether `5` is less than `6` and `6` is greater than `7`. This statement would return `False`.\n",
        "\n",
        "An example using strings: `\"apple\" > \"banana\" < \"blueberry\"` evaluates whether `\"apple\"` is greater than (or comes after) `\"banana\"` and whether `\"banana\"` is less than (or comes before) `\"blueberry\"`. This statement would return `False`.\n",
        "\n",
        "Python examples:"
      ],
      "metadata": {
        "id": "dqTKYfj5oRv2"
      }
    },
    {
      "cell_type": "code",
      "source": [
        "# an example that compares three integers\n",
        "print(5 < 6 > 7) # returns false because 6 is not greater than 7\n",
        "\n",
        "# an example that compares three strings\n",
        "print(\"apple\" > \"banana\" < \"blueberry\") # returns false because apple comes before or is less than banana"
      ],
      "metadata": {
        "id": "x6D2nrvKoTGD"
      },
      "execution_count": null,
      "outputs": []
    },
    {
      "cell_type": "markdown",
      "source": [
        "We can also compare or relate multiple conditions using logical operators: `and`, `or`, `not`\n",
        "\n",
        "- \"A logical operator is a symbol or word used to connect two or more expressions such that the value of the compound expression produced depends only on that of the original expressions and on the meaning of the operator. Common logical operators include AND, OR, and NOT.\" (Busbee and Braunschweig, \"[Logical Operators](https://press.rebus.community/programmingfundamentals/chapter/logical-operators/)\")                            \n",
        "\n",
        "For example, `5 < 6 and 6 < 7` evaluates whether `5 < 6` and `6 < 7` are true. This statement would return `True`."
      ],
      "metadata": {
        "id": "l6rbaOtdoXi9"
      }
    },
    {
      "cell_type": "code",
      "source": [
        "print(5 < 6 and 6 < 7) # returns True"
      ],
      "metadata": {
        "colab": {
          "base_uri": "https://localhost:8080/"
        },
        "id": "HYGDpKbyoYKk",
        "outputId": "a044e811-90bd-43e7-909c-8e924b3c2f86"
      },
      "execution_count": 1,
      "outputs": [
        {
          "output_type": "stream",
          "name": "stdout",
          "text": [
            "True\n"
          ]
        }
      ]
    },
    {
      "cell_type": "markdown",
      "source": [
        "Another example: `5 < 6 or 6 > 7` evaluates whether `5 < 6` or `6 > 7` is true. This statement would return `True`."
      ],
      "metadata": {
        "id": "ed132AqYoevI"
      }
    },
    {
      "cell_type": "code",
      "source": [
        "print(5 < 6 or 6 >7) # returns True"
      ],
      "metadata": {
        "id": "30PGTIXqoguy"
      },
      "execution_count": null,
      "outputs": []
    },
    {
      "cell_type": "markdown",
      "source": [
        "Logical operators in Python:\n",
        "    \n",
        "<table><tr><th>Name</th><th>Syntax</th><th>Example</th><th>Description</th></tr>\n",
        "  <tr><td>And</td><td><code>and</code><td><code>x == y and y != z</code></td><td>Returns <code>True</code> if both statements are true</td></tr>\n",
        "  <tr><td>Or</td><td><code>or</code><td><code>x != y or y == z</code></td><td>Returns <code>True</code> if one of the statements is true</td></tr>\n",
        "  <tr><td>Not</td><td><code>not</code><td><code>not(x == y and y != z)</code></td><td>Reverses the result, returns <code>False</code> if the result is true</td></tr>\n",
        "  </table>\n",
        "    "
      ],
      "metadata": {
        "id": "EvRNSPTAoleR"
      }
    },
    {
      "cell_type": "code",
      "source": [
        "# example using logical operators\n",
        "print(5 < 6 and 6 < 7) # returns true because both statements are true\n",
        "\n",
        "print(5 < 6 or 6 > 7) # returns true because at least one statement is true\n",
        "\n",
        "print(not(5 < 6 and 6 < 7)) # returns false, inverse of initial true"
      ],
      "metadata": {
        "id": "pmoN2iNdomsS"
      },
      "execution_count": null,
      "outputs": []
    },
    {
      "cell_type": "markdown",
      "source": [
        "For more on logical operators in Python: [W3Schools, Python Logical Operators](https://www.w3schools.com/python/gloss_python_logical_operators.asp)   \n",
        "\n",
        "## Comprehension Check\n",
        "\n",
        "<table>\n",
        " <tr><td>\n",
        "<img src=\"https://github.com/kwaldenphd/internet/blob/main/images/clipboard.png?raw=true\" alt=\"Clipboard icon\" width=\"50\"/></td>\n",
        "  <td><a href=\"https://docs.google.com/forms/d/e/1FAIpQLSeLWTw1QgP8g3nrgGAUJNhgyRP9wzEo-3CcHF_YlgmiXklUyw/viewform?usp=sf_link\">Logical Operators & Complex Conditional Statements Comprehension Check</a></td>\n",
        "  </tr>\n",
        "  </table>\n"
      ],
      "metadata": {
        "id": "5G2qDmSjoobK"
      }
    },
    {
      "cell_type": "markdown",
      "source": [
        "## Application\n",
        "\n",
        "Q8: Write a program that uses Python's comparison operators (`==, !=, >, <, >=, <=`) to compare at least three (3) numeric values. Answer to this question includes program + comments that document process and explain your code.\n",
        "\n",
        "Outline for this program:\n",
        "```\n",
        "# first numeric value\n",
        "\n",
        "# second numeric value\n",
        "\n",
        "# third numeric value\n",
        "\n",
        "# complex comparison statement\n",
        "\n",
        "```\n",
        "\n",
        "Q9: Write a program that uses Python's comparison operators (`==, !=, >, <, >=, <=`) to compare at least three (3) string objects. Answer to this question includes program + comments that document process and explain your code.\n",
        "\n",
        "Outline for this program:\n",
        "```\n",
        "# first string object\n",
        "\n",
        "# second string object\n",
        "\n",
        "# third string object\n",
        "\n",
        "# complex comparison statement\n",
        "\n",
        "```\n",
        "   \n",
        "Q10: Write a program that uses Python's `and` and `or` logical operators to compare (at least) two comparison statements. Answer to this question includes program + comments that document process and explain your code.\n"
      ],
      "metadata": {
        "id": "Rr6utdD1oqoX"
      }
    },
    {
      "cell_type": "markdown",
      "source": [
        "# Lab Notebook Questions\n",
        "\n",
        "Lab notebook template:\n",
        "- [Jupyter Notebook, `.ipynb`](https://colab.research.google.com/drive/171iknHXXUMLEO-yyUCI1g-MbRAKFgAOv?usp=sharing) (Google Colab, ND users)\n",
        "\n",
        "Q1: Write a program that uses each of Python's comparison operators (`==, !=, >, <, >=, <=`) to compare two numeric values. Answer to this question includes program + comments that document process and explain your code.\n",
        "\n",
        "Outline for this program:\n",
        "```\n",
        "# first numeric value\n",
        "\n",
        "# second numeric value\n",
        "\n",
        "# equal\n",
        "\n",
        "# not equal\n",
        "\n",
        "# greater than\n",
        "\n",
        "# less than\n",
        "\n",
        "# greater than or equal to\n",
        "\n",
        "# less than or equal to\n",
        "\n",
        "```\n",
        "\n",
        "Q2: Write a program that uses each of Python's comparison operators (`==, !=, >, <, >=, <=`) to compare two string objects. Answer to this question includes program + comments that document process and explain your code.\n",
        "\n",
        "Outline for this program:\n",
        "```\n",
        "# first string object\n",
        "\n",
        "# second string object\n",
        "\n",
        "# equal\n",
        "\n",
        "# not equal\n",
        "\n",
        "# greater than\n",
        "\n",
        "# less than\n",
        "\n",
        "# greater than or equal to\n",
        "\n",
        "# less than or equal to\n",
        "\n",
        "```\n",
        "\n",
        "Q3: Write a program that asks a user to enter their age and returns an output message comparing that value with your age. This program will use a combination of the `input()` function, comparison operators, and `if-then-else` logic. Answer to this question includes program + comments that document process and explain your code.\n",
        "\n",
        "Sample output for this program:\n",
        "```\n",
        "Your age: 10\n",
        "\n",
        "My age: 12\n",
        "\n",
        "I am older!\n",
        "```\n",
        "\n",
        "Q4: Write a program that asks a user to enter a color value and returns an output message comparing that value with your favorite color. This program will use a combination of the `input()` function, comparison operators, and `if-then-else` logic. Answer to this question includes program + comments that document process and explain your code.\n",
        "\n",
        "Sample output for this program:\n",
        "```\n",
        "Your favorite color: green\n",
        "\n",
        "My age: blue\n",
        "\n",
        "We don't have the same favorite color.\n",
        "```\n",
        "\n",
        "Q5: Modify your Q4 program to write a program that asks the user to enter a color value and returns an output message indicating whether the color is a primary, secondary, or tertiary color. This program will use a combination of the `input()` function, comparison operators, and `if-then-else` logic. Answer to this question includes program + comments that document process and explain your code.\n",
        "\n",
        "Primary colors:\n",
        "- Red\n",
        "- Yellow\n",
        "- Blue\n",
        "\n",
        "Secondary colors:\n",
        "- Green\n",
        "- Orange\n",
        "- Purple\n",
        "\n",
        "Tertiary colors:\n",
        "- Amber\n",
        "- Vermillion\n",
        "- Magenta\n",
        "- Violet\n",
        "- Teal\n",
        "- Chartreuse\n",
        "\n",
        "Q6: Write a program that lets the user play a guessing game.\n",
        "- First, your program should set a number as the \"correct answer\"\n",
        "- Then, your program will ask the user to guess a number\n",
        "- Your program should give a message indicating whether the user's guess is correct, too high, or too low\n",
        "\n",
        "This program will use a combination of the `input()` function, comparison operators, and `if-then-else` logic. Answer to this question includes program + comments that document process and explain your code.\n",
        "\n",
        "Sample output for this program (for a correct answer of 7:\n",
        "```\n",
        "You guessed 13.\n",
        "\n",
        "This guess is too high.\n",
        "\n",
        "Better luck next time!\n",
        "```\n",
        "\n",
        "Q7: Revise your Q6 program to use a `while` statement and continue accept new user inputs until until the user guesses the correct number.\n",
        "\n",
        "Remember the lines of code nested under a `while` statement will continue to run (or loop) as long as the initial condition is true. The program will stop running (or looping) this code block when the initial condition is no longer true.\n",
        "\n",
        "The general logic flow for this program:\n",
        "```\n",
        "1- Accept user input\n",
        "\n",
        "2- Evaluate initial condition\n",
        "\n",
        "3- Check if guess is too high\n",
        "\n",
        "4- If guess is too high, output message to user and accept another guess.\n",
        "\n",
        "5- Check if guess is too low\n",
        "\n",
        "6- If guess is too low, output message to user and accept another guess\n",
        "\n",
        "7- Output final message indicating user has guessed correctly\n",
        "```\n",
        "\n",
        "Note that lines 2-6 will need to continue running (or looping) until the user guesses correctly.\n",
        "\n",
        "Answer to this question includes program + comments that document process and explain your code.\n",
        "\n",
        "Q8: Write a program that uses Python's comparison operators (`==, !=, >, <, >=, <=`) to compare at least three (3) numeric values. Answer to this question includes program + comments that document process and explain your code.\n",
        "\n",
        "Outline for this program:\n",
        "```\n",
        "# first numeric value\n",
        "\n",
        "# second numeric value\n",
        "\n",
        "# third numeric value\n",
        "\n",
        "# complex comparison statement\n",
        "\n",
        "```\n",
        "\n",
        "Q9: Write a program that uses Python's comparison operators (`==, !=, >, <, >=, <=`) to compare at least three (3) string objects. Answer to this question includes program + comments that document process and explain your code.\n",
        "\n",
        "Outline for this program:\n",
        "```\n",
        "# first string object\n",
        "\n",
        "# second string object\n",
        "\n",
        "# third string object\n",
        "\n",
        "# complex comparison statement\n",
        "\n",
        "```\n",
        "   \n",
        "Q10: Write a program that uses Python's `and` and `or` logical operators to compare (at least) two comparison statements. Answer to this question includes program + comments that document process and explain your code."
      ],
      "metadata": {
        "id": "fxjLAPcnotHj"
      }
    }
  ]
}