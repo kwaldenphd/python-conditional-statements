{
  "nbformat": 4,
  "nbformat_minor": 0,
  "metadata": {
    "colab": {
      "provenance": [],
      "toc_visible": true,
      "authorship_tag": "ABX9TyONpMyR6QQx9qrAZM3dL9g2",
      "include_colab_link": true
    },
    "kernelspec": {
      "name": "python3",
      "display_name": "Python 3"
    },
    "language_info": {
      "name": "python"
    }
  },
  "cells": [
    {
      "cell_type": "markdown",
      "metadata": {
        "id": "view-in-github",
        "colab_type": "text"
      },
      "source": [
        "<a href=\"https://colab.research.google.com/github/kwaldenphd/python-conditional-statements/blob/main/python_conditional_statements_lab_notebook.ipynb\" target=\"_parent\"><img src=\"https://colab.research.google.com/assets/colab-badge.svg\" alt=\"Open In Colab\"/></a>"
      ]
    },
    {
      "cell_type": "markdown",
      "source": [
        "# Conditional Statements & Comparison Operators in Python"
      ],
      "metadata": {
        "id": "7MzhNm9Tt6d3"
      }
    },
    {
      "cell_type": "markdown",
      "metadata": {
        "id": "ff876fb9"
      },
      "source": [
        "Student Name: **Enter Your Name Here (Double click to edit)**\n",
        "<br>\n",
        "Net ID: **Enter Your NetID Here (Double click to edit)**\n",
        "<br>"
      ]
    },
    {
      "cell_type": "markdown",
      "source": [
        "## Lab Notebook Questions"
      ],
      "metadata": {
        "id": "tQARbhvayCrm"
      }
    },
    {
      "cell_type": "markdown",
      "source": [
        "### **Q1: Write a program that uses each of Python's comparison operators (`==, !=, >, <, >=, <=`) to compare two numeric values. Answer to this question includes program + comments that document process and explain your code.**"
      ],
      "metadata": {
        "id": "pgEKP1FtpExo"
      }
    },
    {
      "cell_type": "markdown",
      "metadata": {
        "id": "L0cFnREpis-5"
      },
      "source": [
        "**AnswerQ1**: Your answer here (double click to edit)"
      ]
    },
    {
      "cell_type": "code",
      "source": [
        "# your codes here (double click to edit)\n",
        "\n",
        "# first numeric value\n",
        "\n",
        "# second numeric value\n",
        "\n",
        "# equal\n",
        "\n",
        "# not equal\n",
        "\n",
        "# greater than\n",
        "\n",
        "# less than\n",
        "\n",
        "# greater than or equal to\n",
        "\n",
        "# less than or equal to"
      ],
      "metadata": {
        "id": "3ljNdsyxpQRa"
      },
      "execution_count": null,
      "outputs": []
    },
    {
      "cell_type": "markdown",
      "source": [
        "### **Q2: Write a program that uses each of Python's comparison operators (`==, !=, >, <, >=, <=`) to compare two string objects. Answer to this question includes program + comments that document process and explain your code.**"
      ],
      "metadata": {
        "id": "3URjcSZDpbFu"
      }
    },
    {
      "cell_type": "markdown",
      "metadata": {
        "id": "v2XYT06SpfJQ"
      },
      "source": [
        "**AnswerQ2**: Your answer here (double click to edit)"
      ]
    },
    {
      "cell_type": "code",
      "source": [
        "# your codes here (double click to edit)\n",
        "\n",
        "# first string object\n",
        "\n",
        "# second string object\n",
        "\n",
        "# equal\n",
        "\n",
        "# not equal\n",
        "\n",
        "# greater than\n",
        "\n",
        "# less than\n",
        "\n",
        "# greater than or equal to\n",
        "\n",
        "# less than or equal to"
      ],
      "metadata": {
        "id": "UEfw6psfpgsa"
      },
      "execution_count": null,
      "outputs": []
    },
    {
      "cell_type": "markdown",
      "source": [
        "### **Q3: Write a program that asks a user to enter their age and returns an output message comparing that value with your age. This program will use a combination of the `input()` function, comparison operators, and `if-then-else` logic. Answer to this question includes program + comments that document process and explain your code.**\n",
        "\n",
        "Sample output for this program:\n",
        "```\n",
        "Your age: 10\n",
        "\n",
        "My age: 12\n",
        "\n",
        "I am older!\n",
        "```"
      ],
      "metadata": {
        "id": "NIornfjZpmFy"
      }
    },
    {
      "cell_type": "markdown",
      "metadata": {
        "id": "mB-kFikxis_I"
      },
      "source": [
        "**AnswerQ3:** Your answer here (double click to edit)"
      ]
    },
    {
      "cell_type": "code",
      "execution_count": null,
      "metadata": {
        "id": "r_wK6Djjd3TQ"
      },
      "outputs": [],
      "source": [
        "# your codes here (double click to edit)"
      ]
    },
    {
      "cell_type": "markdown",
      "source": [
        "### **Q4: Write a program that asks a user to enter a color value and returns an output message comparing that value with your favorite color. This program will use a combination of the `input()` function, comparison operators, and `if-then-else` logic. Answer to this question includes program + comments that document process and explain your code.**\n",
        "\n",
        "Sample output for this program:\n",
        "```\n",
        "Your favorite color: green\n",
        "\n",
        "My age: blue\n",
        "\n",
        "We don't have the same favorite color.\n",
        "```"
      ],
      "metadata": {
        "id": "ymUHiLayptBD"
      }
    },
    {
      "cell_type": "markdown",
      "metadata": {
        "id": "Cf3iN_D7is_N"
      },
      "source": [
        "**AnswerQ4:** Your answer here (double click to edit)"
      ]
    },
    {
      "cell_type": "code",
      "execution_count": null,
      "metadata": {
        "id": "9lT7urowd9w3"
      },
      "outputs": [],
      "source": [
        "# your codes here (double click to edit)"
      ]
    },
    {
      "cell_type": "markdown",
      "source": [
        "### **Q5: Modify your Q4 program to write a program that asks the user to enter a color value and returns an output message indicating whether the color is a primary, secondary, or tertiary color. This program will use a combination of the `input()` function, comparison operators, and `if-then-else` logic. Answer to this question includes program + comments that document process and explain your code.**\n",
        "\n",
        "Primary colors:\n",
        "- Red\n",
        "- Yellow\n",
        "- Blue\n",
        "\n",
        "Secondary colors:\n",
        "- Green\n",
        "- Orange\n",
        "- Purple\n",
        "\n",
        "Tertiary colors:\n",
        "- Amber\n",
        "- Vermillion\n",
        "- Magenta\n",
        "- Violet\n",
        "- Teal\n",
        "- Chartreuse"
      ],
      "metadata": {
        "id": "ACOEEc_spzdB"
      }
    },
    {
      "cell_type": "markdown",
      "metadata": {
        "id": "ZvxkdANDis_S"
      },
      "source": [
        "**AnswerQ5:** Your answer here (double click to edit)"
      ]
    },
    {
      "cell_type": "code",
      "execution_count": null,
      "metadata": {
        "id": "nxu7IMDYeGM9"
      },
      "outputs": [],
      "source": [
        "# your codes here (double click to edit)"
      ]
    },
    {
      "cell_type": "markdown",
      "source": [
        "### **Q6: Write a program that lets the user play a guessing game.**\n",
        "**- First, your program should set a number as the \"correct answer\"**\n",
        "**- Then, your program will ask the user to guess a number**\n",
        "**- Your program should give a message indicating whether the user's guess is correct, too high, or too low**\n",
        "\n",
        "**This program will use a combination of the `input()` function, comparison operators, and `if-then-else` logic. Answer to this question includes program + comments that document process and explain your code.**\n",
        "\n",
        "Sample output for this program (for a correct answer of 7:\n",
        "```\n",
        "You guessed 13.\n",
        "\n",
        "This guess is too high.\n",
        "\n",
        "Better luck next time!\n",
        "```"
      ],
      "metadata": {
        "id": "FembQg4kp_M2"
      }
    },
    {
      "cell_type": "markdown",
      "metadata": {
        "id": "3BAA-_Vyis_X"
      },
      "source": [
        "**AnswerQ6:** Your answer here (double click to edit)"
      ]
    },
    {
      "cell_type": "code",
      "execution_count": null,
      "metadata": {
        "id": "bmG50c8VeI5E"
      },
      "outputs": [],
      "source": [
        "# your codes here (double click to edit)"
      ]
    },
    {
      "cell_type": "markdown",
      "source": [
        "### **Q7: Revise your Q6 program to use a `while` statement and continue accept new user inputs until until the user guesses the correct number.**\n",
        "\n",
        "**Remember the lines of code nested under a `while` statement will continue to run (or loop) as long as the initial condition is true. The program will stop running (or looping) this code block when the initial condition is no longer true.**\n",
        "\n",
        "The general logic flow for this program:\n",
        "```\n",
        "1- Accept user input\n",
        "\n",
        "2- Evaluate initial condition\n",
        "\n",
        "3- Check if guess is too high\n",
        "\n",
        "4- If guess is too high, output message to user and accept another guess.\n",
        "\n",
        "5- Check if guess is too low\n",
        "\n",
        "6- If guess is too low, output message to user and accept another guess\n",
        "\n",
        "7- Output final message indicating user has guessed correctly\n",
        "```\n",
        "\n",
        "**Note that steps 2-6 will need to continue running (or looping) until the user guesses correctly.**\n",
        "\n",
        "**Answer to this question includes program + comments that document process and explain your code.**"
      ],
      "metadata": {
        "id": "HtUKT1xNqJQy"
      }
    },
    {
      "cell_type": "markdown",
      "metadata": {
        "id": "hcRpdIN_is_b"
      },
      "source": [
        "**AnswerQ7:** Your answer here (double click to edit)"
      ]
    },
    {
      "cell_type": "code",
      "execution_count": null,
      "metadata": {
        "id": "cBAd2bpPqUn2"
      },
      "outputs": [],
      "source": [
        "# your codes here (double click to edit)\n",
        "\n",
        "# step 1- accept user input\n",
        "\n",
        "# step 2- evaluate initial condition\n",
        "\n",
        "# step 3 - check if guess is too high\n",
        "\n",
        "# step 4- if guess is too high, output message to user and accept another guess.\n",
        "\n",
        "# step 5- Check if guess is too low\n",
        "\n",
        "# step 6- If guess is too low, output message to user and accept another guess\n",
        "\n",
        "# step 7- Output final message indicating user has guessed correctly"
      ]
    },
    {
      "cell_type": "markdown",
      "source": [
        "### **Q8: Write a program that uses Python's comparison operators (`==, !=, >, <, >=, <=`) to compare at least three (3) numeric values. Answer to this question includes program + comments that document process and explain your code.**"
      ],
      "metadata": {
        "id": "NCwQ9LFvqu-g"
      }
    },
    {
      "cell_type": "markdown",
      "metadata": {
        "id": "tihNYy4uis_c"
      },
      "source": [
        "**AnswerQ8:** Your answer here (double click to edit)"
      ]
    },
    {
      "cell_type": "code",
      "execution_count": null,
      "metadata": {
        "id": "izz2BIt-eSTE"
      },
      "outputs": [],
      "source": [
        "# your codes here (double click to edit)\n",
        "\n",
        "# first numeric value\n",
        "\n",
        "# second numeric value\n",
        "\n",
        "# third numeric value\n",
        "\n",
        "# complex comparison statement"
      ]
    },
    {
      "cell_type": "markdown",
      "source": [
        "### **Q9: Write a program that uses Python's comparison operators (`==, !=, >, <, >=, <=`) to compare at least three (3) string objects. Answer to this question includes program + comments that document process and explain your code.**"
      ],
      "metadata": {
        "id": "5dvuisBPq3so"
      }
    },
    {
      "cell_type": "markdown",
      "metadata": {
        "id": "SEFRnAoNis_f"
      },
      "source": [
        "**AnswerQ9:** Your answer here (double click to edit)"
      ]
    },
    {
      "cell_type": "code",
      "execution_count": null,
      "metadata": {
        "id": "n3vQgJOgq66N"
      },
      "outputs": [],
      "source": [
        "# your codes here (double click to edit)\n",
        "\n",
        "# first string object\n",
        "\n",
        "# second string object\n",
        "\n",
        "# third string object\n",
        "\n",
        "# complex comparison statement"
      ]
    },
    {
      "cell_type": "markdown",
      "source": [
        "### **Q10: Write a program that uses Python's `and` and `or` logical operators to compare (at least) two comparison statements. Answer to this question includes program + comments that document process and explain your code.**"
      ],
      "metadata": {
        "id": "dMDnvCXqq-IO"
      }
    },
    {
      "cell_type": "markdown",
      "metadata": {
        "id": "yNYGMUIHenNC"
      },
      "source": [
        "**AnswerQ10:** Your answer here (double click to edit)"
      ]
    },
    {
      "cell_type": "code",
      "execution_count": null,
      "metadata": {
        "id": "mXYePnBLec-U"
      },
      "outputs": [],
      "source": [
        "# your codes here (double click to edit)"
      ]
    }
  ]
}